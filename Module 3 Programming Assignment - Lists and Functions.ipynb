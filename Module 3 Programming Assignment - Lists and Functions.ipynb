{
 "cells": [
  {
   "cell_type": "markdown",
   "id": "e185dbea-3d78-47e9-bf67-ebe16101f245",
   "metadata": {},
   "source": [
    "7.4 Make a list called things with these three strings as elements: \"mozzarella\", \"cinderella\", \"salmonella\"."
   ]
  },
  {
   "cell_type": "code",
   "execution_count": null,
   "id": "3f60e86c-4f81-4752-b89d-831e1e42e64a",
   "metadata": {},
   "outputs": [],
   "source": [
    "things = ['mozzarella','cinderella','salmonella']  \n",
    "print(things)"
   ]
  },
  {
   "cell_type": "markdown",
   "id": "c2e7002f-a824-4015-a345-f2ba4bdd2c64",
   "metadata": {},
   "source": [
    "7.5 Capitalize the element in things that refers to a person and then print the list. Did it change the element in the list?"
   ]
  },
  {
   "cell_type": "code",
   "execution_count": null,
   "id": "91d2c41e-3897-4757-8281-3ee814a74fa7",
   "metadata": {},
   "outputs": [],
   "source": [
    "\n",
    "things = ['mozzarella','cinderella','salmonella'] \n",
    "things[1] = things[1].capitalize()\n",
    "print(things)"
   ]
  },
  {
   "cell_type": "markdown",
   "id": "5ddc84e1-bb1c-4da9-bb72-bb94991ca6a8",
   "metadata": {},
   "source": [
    "7.6 Make the cheesy element of things all uppercase and then print the list."
   ]
  },
  {
   "cell_type": "code",
   "execution_count": 19,
   "id": "0fb481fc-e971-4c89-8a74-201440a91e98",
   "metadata": {},
   "outputs": [
    {
     "name": "stdout",
     "output_type": "stream",
     "text": [
      "['MOZZARELLA', 'cinderella', 'salmonella']\n"
     ]
    }
   ],
   "source": [
    "things = ['mozzarella','cinderella','salmonella'] \n",
    "things[0]= things[0].upper() \n",
    "print(things)"
   ]
  },
  {
   "cell_type": "markdown",
   "id": "3af139aa-ca85-49e6-99d4-8bd0c5812a6e",
   "metadata": {},
   "source": [
    "7.7 Delete the disease element from things, collect your Nobel Prize, and print the list."
   ]
  },
  {
   "cell_type": "code",
   "execution_count": 15,
   "id": "935adb72-5f81-4142-9544-b81faa850d4d",
   "metadata": {},
   "outputs": [
    {
     "name": "stdout",
     "output_type": "stream",
     "text": [
      "['mozzarella', 'cinderella']\n"
     ]
    }
   ],
   "source": [
    "things = ['mozzarella','cinderella','salmonella']  \n",
    "things.remove('salmonella') \n",
    "print(things)"
   ]
  },
  {
   "cell_type": "markdown",
   "id": "1d68d799-4e79-45a9-803d-304914e99bd6",
   "metadata": {},
   "source": [
    "9.1 Define a function called good() that returns the following list: ['Harry', 'Ron', 'Hermione']."
   ]
  },
  {
   "cell_type": "code",
   "execution_count": 23,
   "id": "8bcef8d3-311b-4eac-ba0f-50291c1ff774",
   "metadata": {},
   "outputs": [
    {
     "name": "stdout",
     "output_type": "stream",
     "text": [
      "['Harry', 'Ron', 'Hermione']\n"
     ]
    }
   ],
   "source": [
    "def good():\n",
    "    return [\"Harry\", \"Ron\", \"Hermione\"] \n",
    "print(good())"
   ]
  },
  {
   "cell_type": "markdown",
   "id": "6da8c2f1-78e3-4009-8c20-d5c5a4b513fc",
   "metadata": {},
   "source": [
    "9.2 Define a generator function called get_odds() that returns the odd numbers from range(10). Use a for loop to find and print the third value returned."
   ]
  },
  {
   "cell_type": "code",
   "execution_count": 43,
   "id": "025ebc04-7e5a-43c4-b9cb-29aa1bd76fe0",
   "metadata": {},
   "outputs": [
    {
     "name": "stdout",
     "output_type": "stream",
     "text": [
      "5\n"
     ]
    }
   ],
   "source": [
    "def get_odds():\n",
    "    for n in range(10):\n",
    "        if n % 2 != 0:\n",
    "            yield n \n",
    "\n",
    "count = 0 \n",
    "for odd in get_odds():\n",
    "    count +=1 \n",
    "    if count == 3: \n",
    "        break  \n",
    "print(odd)"
   ]
  },
  {
   "cell_type": "code",
   "execution_count": null,
   "id": "cddafae8-f7d8-4ed5-bcbc-b92952298d1c",
   "metadata": {},
   "outputs": [],
   "source": []
  }
 ],
 "metadata": {
  "kernelspec": {
   "display_name": "Python [conda env:base] *",
   "language": "python",
   "name": "conda-base-py"
  },
  "language_info": {
   "codemirror_mode": {
    "name": "ipython",
    "version": 3
   },
   "file_extension": ".py",
   "mimetype": "text/x-python",
   "name": "python",
   "nbconvert_exporter": "python",
   "pygments_lexer": "ipython3",
   "version": "3.12.7"
  }
 },
 "nbformat": 4,
 "nbformat_minor": 5
}
