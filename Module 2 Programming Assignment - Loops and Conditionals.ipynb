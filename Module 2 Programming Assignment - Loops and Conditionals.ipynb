{
 "cells": [
  {
   "cell_type": "markdown",
   "id": "9b88ba77-77dd-4d46-a439-91021eb38e2e",
   "metadata": {},
   "source": [
    "4.1 Choose a number between 1 and 10 and assign it to the variable secret. Then, select another number between 1 and 10 and assign it to the variable guess. Next, write the conditional tests (if, else, and elif) to print the string 'too low' if guess is less than secret, 'too high' if greater than secret, and 'just right' if equal to secret."
   ]
  },
  {
   "cell_type": "code",
   "execution_count": 15,
   "id": "26c42cf3-8d50-4076-9b0b-e27808941d49",
   "metadata": {},
   "outputs": [
    {
     "name": "stdout",
     "output_type": "stream",
     "text": [
      "Your guess is just right\n"
     ]
    }
   ],
   "source": [
    "secret = 5 \n",
    "guess = 5\n",
    "\n",
    "if guess > secret:\n",
    "    print(\"Your guess is too high\") \n",
    "elif guess < secret:\n",
    "    print(\"Your guess is too low\") \n",
    "else:\n",
    "    print(\"Your guess is just right\")\n",
    "    "
   ]
  },
  {
   "cell_type": "markdown",
   "id": "a2201cb8-3155-4a27-a633-838df257d07c",
   "metadata": {},
   "source": [
    "4.2 Assign True or False to the variables small and green. Write some if/else statements to print which of these matches those choices: cherry, pea, watermelon, pumpkin."
   ]
  },
  {
   "cell_type": "code",
   "execution_count": 5,
   "id": "caecb9f7-90ee-4246-a8d5-e6c476c0279a",
   "metadata": {},
   "outputs": [
    {
     "name": "stdout",
     "output_type": "stream",
     "text": [
      "It is a cherry\n"
     ]
    }
   ],
   "source": [
    "small = True \n",
    "green = False \n",
    "\n",
    "\n",
    "\n",
    "if small and green:\n",
    "    print(\"It is a pea\")  \n",
    "elif not small and green:\n",
    "    print(\"It is a watermelon\") \n",
    "elif small and not green:\n",
    "    print(\"It is a cherry\") \n",
    "else:\n",
    "    print(\"It is a pumpkin\")\n",
    "    \n",
    "\n",
    "\n",
    "    "
   ]
  },
  {
   "cell_type": "markdown",
   "id": "ac27a368-06b8-4721-8c6d-60eb73c074f9",
   "metadata": {},
   "source": [
    "6.1 Use a for loop to print the values of the list [3, 2, 1, 0]."
   ]
  },
  {
   "cell_type": "code",
   "execution_count": 3,
   "id": "fad05dcb-9db9-43d0-b68b-902eaeedd3e2",
   "metadata": {},
   "outputs": [
    {
     "name": "stdout",
     "output_type": "stream",
     "text": [
      "3\n",
      "2\n",
      "1\n",
      "0\n"
     ]
    }
   ],
   "source": [
    "list = [3,2,1,0] \n",
    "\n",
    "for item in list:\n",
    "    print(item) "
   ]
  },
  {
   "cell_type": "markdown",
   "id": "c3f5742e-ff77-48a1-939b-0b78ceb5a5c6",
   "metadata": {},
   "source": [
    "6.2 Assign the value 7 to the variable guess_me, and the value 1 to the variable number. Write a while loop that compares number with guess_me. Print 'too low' if number is less than guess me. If number equals guess_me, print 'found it!' and then exit the loop. If number is greater than guess_me, print 'oops' and then exit the loop. while Increment number at the end of the loop."
   ]
  },
  {
   "cell_type": "code",
   "execution_count": 1,
   "id": "b9bb4e90-7ded-4026-99c7-3a41587a7240",
   "metadata": {},
   "outputs": [
    {
     "name": "stdout",
     "output_type": "stream",
     "text": [
      "Too low\n",
      "Too low\n",
      "Too low\n",
      "Too low\n",
      "Too low\n",
      "Too low\n",
      "Found it\n"
     ]
    }
   ],
   "source": [
    "guess_me = 7 \n",
    "number = 1 \n",
    "\n",
    "while True:\n",
    "    if number < guess_me:\n",
    "        print(\"Too low\") \n",
    "    elif number > guess_me:\n",
    "        print(\"oops\")\n",
    "        break \n",
    "    else:\n",
    "        print(\"Found it\")  \n",
    "        break \n",
    "    number +=1 \n"
   ]
  },
  {
   "cell_type": "markdown",
   "id": "fc4d3c34-89a8-4138-b5ba-fd9456e2a8dd",
   "metadata": {},
   "source": [
    "6.3 Assign the value 5 to the variable guess_me. Use a for loop to iterate a variable called number over range(10). If number is less than guess_me, print 'too low'. If it equals guess_me, print found it! and then break out of the for loop. If number is greater than guess_me, print 'oops' and then exit the loop."
   ]
  },
  {
   "cell_type": "code",
   "execution_count": 5,
   "id": "9d27cea5-f60c-4673-9796-d09194d0eb2c",
   "metadata": {},
   "outputs": [
    {
     "name": "stdout",
     "output_type": "stream",
     "text": [
      "Too low\n",
      "Too low\n",
      "Too low\n",
      "Too low\n",
      "Too low\n",
      "Found it\n"
     ]
    }
   ],
   "source": [
    "guess_me = 5  \n",
    "\n",
    "for number in range(10):\n",
    "    if number < guess_me:\n",
    "        print(\"Too low\") \n",
    "    elif number > guess_me:\n",
    "        print(\"Oops\")\n",
    "        break \n",
    "    else:\n",
    "        print(\"Found it\")\n",
    "        break\n",
    "    \n",
    "\n"
   ]
  }
 ],
 "metadata": {
  "kernelspec": {
   "display_name": "Python [conda env:base] *",
   "language": "python",
   "name": "conda-base-py"
  },
  "language_info": {
   "codemirror_mode": {
    "name": "ipython",
    "version": 3
   },
   "file_extension": ".py",
   "mimetype": "text/x-python",
   "name": "python",
   "nbconvert_exporter": "python",
   "pygments_lexer": "ipython3",
   "version": "3.12.7"
  }
 },
 "nbformat": 4,
 "nbformat_minor": 5
}
