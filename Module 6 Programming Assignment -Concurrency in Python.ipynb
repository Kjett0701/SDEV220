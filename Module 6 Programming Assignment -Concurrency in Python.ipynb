{
 "cells": [
  {
   "cell_type": "markdown",
   "id": "92a83ff2-0426-4f18-a8e4-cd47b92fbe8d",
   "metadata": {},
   "source": [
    "13.1 Write the current date as a string to the text file today.txt."
   ]
  },
  {
   "cell_type": "code",
   "execution_count": 5,
   "id": "3ba4c682-b2d9-4401-aaee-c287e5562352",
   "metadata": {},
   "outputs": [],
   "source": [
    "import datetime \n",
    "\n",
    "\n",
    "\n",
    "todays_date = datetime.datetime.now().date() \n",
    "with open(\"today.txt\", \"w\") as file:\n",
    "     file.write(str(todays_date))"
   ]
  },
  {
   "cell_type": "markdown",
   "id": "7e09855c-8ee1-4fec-868a-6177fe8b28a0",
   "metadata": {},
   "source": [
    "13.2 Read the text file today.txt into the string today_string."
   ]
  },
  {
   "cell_type": "code",
   "execution_count": 7,
   "id": "6d40e23a-678c-4a9c-9c71-1e057707421a",
   "metadata": {},
   "outputs": [
    {
     "name": "stdout",
     "output_type": "stream",
     "text": [
      "2025-04-23\n"
     ]
    }
   ],
   "source": [
    "with open (\"today.txt\", \"r\") as file:\n",
    "    today_string = file.read() \n",
    "print(today_string)"
   ]
  },
  {
   "cell_type": "markdown",
   "id": "a59f3b50-5e65-4d99-83db-67773fdf0a57",
   "metadata": {},
   "source": [
    "13.3 Parse the date from today_string."
   ]
  },
  {
   "cell_type": "code",
   "execution_count": 17,
   "id": "813ba278-6d69-498a-97a9-44b3e85f5242",
   "metadata": {},
   "outputs": [
    {
     "name": "stdout",
     "output_type": "stream",
     "text": [
      "2025-04-23\n"
     ]
    }
   ],
   "source": [
    "from datetime import datetime \n",
    "\n",
    "todays_date = \"2025-04-23\" \n",
    "\n",
    "parsed_date = datetime.strptime(todays_date, \"%Y-%m-%d\").date()\n",
    "print(parsed_date)"
   ]
  },
  {
   "cell_type": "markdown",
   "id": "205e7fd5-f89a-4590-bb51-cb3a52f6a69e",
   "metadata": {},
   "source": [
    "15.1 Use multiprocessing to create three separate processes. Make each one wait a random number of seconds between zero and one, print the current time, and then exit."
   ]
  },
  {
   "cell_type": "code",
   "execution_count": 15,
   "id": "bada755e-d780-4e85-bcaa-6704ed7fc494",
   "metadata": {},
   "outputs": [
    {
     "name": "stdout",
     "output_type": "stream",
     "text": [
      "all processes have been completed\n"
     ]
    }
   ],
   "source": [
    "import multiprocessing \n",
    "import random \n",
    "import time \n",
    "\n",
    "def process_function():\n",
    "    delay = random.uniform(0,1)\n",
    "    time.sleep(delay) \n",
    "    print(f\"Process {multiprocessing.current_process().name} - Time: {time.strftime('%H:%M:%S')}\") \n",
    "\n",
    "if __name__ == \"__main__\":\n",
    "    processes = []  \n",
    "\n",
    "   \n",
    "    for i in range(3):\n",
    "        process = multiprocessing.Process(target=process_function, name=f\"Process-{i+1}\")\n",
    "        processes.append(process)\n",
    "        process.start() \n",
    "\n",
    "   \n",
    "    for process in processes:\n",
    "        process.join() \n",
    "\n",
    "    print(\"all processes have been completed\")"
   ]
  },
  {
   "cell_type": "code",
   "execution_count": null,
   "id": "77274b68-14c7-4ebb-b8c3-0ca614b52318",
   "metadata": {},
   "outputs": [],
   "source": []
  }
 ],
 "metadata": {
  "kernelspec": {
   "display_name": "Python [conda env:base] *",
   "language": "python",
   "name": "conda-base-py"
  },
  "language_info": {
   "codemirror_mode": {
    "name": "ipython",
    "version": 3
   },
   "file_extension": ".py",
   "mimetype": "text/x-python",
   "name": "python",
   "nbconvert_exporter": "python",
   "pygments_lexer": "ipython3",
   "version": "3.12.7"
  }
 },
 "nbformat": 4,
 "nbformat_minor": 5
}
