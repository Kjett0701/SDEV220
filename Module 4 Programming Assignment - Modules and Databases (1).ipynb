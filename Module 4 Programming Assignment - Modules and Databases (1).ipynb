{
 "cells": [
  {
   "cell_type": "markdown",
   "id": "46ee1a09-6856-48bb-aae1-529c97f85faa",
   "metadata": {},
   "source": [
    "11.1 Create a file called zoo.py. In it, define a function called hours() that prints the string 'Open 9-5 daily'. Then, use the interactive interpreter to import the zoo module and call its hours() function."
   ]
  },
  {
   "cell_type": "code",
   "execution_count": 3,
   "id": "7c9950ac-0da6-4326-afb7-615ed72867f7",
   "metadata": {},
   "outputs": [
    {
     "name": "stdout",
     "output_type": "stream",
     "text": [
      "Open 9-5 daily\n"
     ]
    }
   ],
   "source": [
    "import zoo \n",
    "zoo.hours() "
   ]
  },
  {
   "cell_type": "markdown",
   "id": "293df565-57c7-4136-91f6-c8e40e54652f",
   "metadata": {},
   "source": [
    "11.2 In the interactive interpreter, import the zoo module as menagerie and call its hours() function."
   ]
  },
  {
   "cell_type": "code",
   "execution_count": 7,
   "id": "daebf937-364d-41d2-b80b-b2ba8b086aaa",
   "metadata": {},
   "outputs": [
    {
     "name": "stdout",
     "output_type": "stream",
     "text": [
      "Open 9-5 daily\n"
     ]
    }
   ],
   "source": [
    "import zoo as menagerie \n",
    "menagerie.hours()\n"
   ]
  },
  {
   "cell_type": "markdown",
   "id": "133b4642-a620-4c7f-a83c-a8dc93cc8338",
   "metadata": {},
   "source": [
    "16.8 Use the sqlalchemy module to connect to the sqlite3 database books.db that you just made in exercise 16.4. As in 16.6, select and print the title column from the book table in alphabetical order."
   ]
  },
  {
   "cell_type": "code",
   "execution_count": 9,
   "id": "f309e017-a9ca-498c-a1d4-bbccfbb5adf3",
   "metadata": {},
   "outputs": [
    {
     "name": "stdout",
     "output_type": "stream",
     "text": [
      "1984\n",
      "1984\n",
      "The Great Gatsby\n",
      "The Great Gatsby\n",
      "To Kill a Mockingbird\n",
      "To Kill a Mockingbird\n"
     ]
    }
   ],
   "source": [
    "from sqlalchemy import create_engine, MetaData, Table\n",
    "\n",
    "\n",
    "engine = create_engine(\"sqlite:///books.db\")\n",
    "\n",
    "\n",
    "metadata = MetaData()\n",
    "metadata.reflect(bind=engine)\n",
    "\n",
    "\n",
    "book_table = metadata.tables[\"books\"]\n",
    "\n",
    "\n",
    "with engine.connect() as connection:\n",
    "    result = connection.execute(book_table.select().order_by(book_table.c.title))\n",
    "    \n",
    "    for row in result:\n",
    "        print(row.title) \n"
   ]
  }
 ],
 "metadata": {
  "kernelspec": {
   "display_name": "Python [conda env:base] *",
   "language": "python",
   "name": "conda-base-py"
  },
  "language_info": {
   "codemirror_mode": {
    "name": "ipython",
    "version": 3
   },
   "file_extension": ".py",
   "mimetype": "text/x-python",
   "name": "python",
   "nbconvert_exporter": "python",
   "pygments_lexer": "ipython3",
   "version": "3.12.7"
  }
 },
 "nbformat": 4,
 "nbformat_minor": 5
}
