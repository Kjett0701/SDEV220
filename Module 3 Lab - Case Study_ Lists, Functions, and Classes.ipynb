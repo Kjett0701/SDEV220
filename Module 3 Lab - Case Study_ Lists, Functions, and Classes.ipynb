{
 "cells": [
  {
   "cell_type": "markdown",
   "id": "60b867fa-11a4-4be2-816b-804f93a347ed",
   "metadata": {},
   "source": [
    "Write a Python app that has the following classes:\n",
    "A super class called Vehicle, which contains an attribute for vehicle type, such as car, truck, plane, boat, or a broomstick.\n",
    "A class called Automobile which will inherit the attributes from Vehicle and also contain the following attributes:\n",
    "year\n",
    "make\n",
    "model\n",
    "doors (2 or 4)\n",
    "roof (solid or sun roof).\n",
    "Write an app that will accept user input for a car. The app will store \"car\" into the vehicle type in your Vehicle super class. \n",
    "The app will then ask the user for the year, make, model, doors, and type of roof and store thdata in the attributes above.\n",
    "The app will then output the data in an easy-to-read and understandable format, such as this:\n",
    "  Vehicle type: car\n",
    "  Year: 2022\n",
    "  Make: Toyota\n",
    "  Model: Corolla\n",
    "  Number of doors: 4\n",
    "  Type of roof: sun roof"
   ]
  },
  {
   "cell_type": "code",
   "execution_count": null,
   "id": "4dc41e74-7ea8-4d1e-8616-526835f8f935",
   "metadata": {},
   "outputs": [],
   "source": [
    "class Vehicle:\n",
    "    def __init__(self, vehicle_type):\n",
    "        self.vehicle_type = vehicle_type \n",
    "class Automobile(Vehicle):\n",
    "    def __init__(self, year, make, model, doors, roof):\n",
    "        super().__init__(\"car\")\n",
    "        self.year = year \n",
    "        self.make = make \n",
    "        self.model = model \n",
    "        self.doors = doors\n",
    "        self.roof = roof \n",
    "\n",
    "    def display_info(self):\n",
    "        print(\"\\nVehicle Information:\") \n",
    "        print(f\"Vehicle Type: {self.vehicle_type}\") \n",
    "        print(f\"Year: {self.year}\")\n",
    "        print(f\"Make: {self.make}\")\n",
    "        print(f\"Model: {self.model}\")\n",
    "        print(f\"Doors: {self.doors}\") \n",
    "        print(f\"Roof: {self.roof}\")\n",
    "    \n",
    "    \n",
    "year = input(\"What year is your vehicle?: \")\n",
    "make = input(\"What is your vehicle's make?: \") \n",
    "model = input(\"What is your vehicle's model?: \") \n",
    "doors = input(\"How many doors does your vehicle have? (2 or 4): \")  \n",
    "roof = input(\"What kind of roof does your vehicle have? (solid or sun roof): \") \n",
    "\n",
    "car = Automobile(year, make, model, doors, roof) \n",
    "car.display_info()\n",
    "    "
   ]
  }
 ],
 "metadata": {
  "kernelspec": {
   "display_name": "Python [conda env:base] *",
   "language": "python",
   "name": "conda-base-py"
  },
  "language_info": {
   "codemirror_mode": {
    "name": "ipython",
    "version": 3
   },
   "file_extension": ".py",
   "mimetype": "text/x-python",
   "name": "python",
   "nbconvert_exporter": "python",
   "pygments_lexer": "ipython3",
   "version": "3.12.7"
  }
 },
 "nbformat": 4,
 "nbformat_minor": 5
}
